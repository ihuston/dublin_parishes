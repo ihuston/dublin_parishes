{
 "cells": [
  {
   "cell_type": "markdown",
   "metadata": {},
   "source": [
    "# Dublin Parish Map Boundaries"
   ]
  },
  {
   "cell_type": "markdown",
   "metadata": {
    "deletable": true,
    "editable": true
   },
   "source": [
    "Data from http://census.cso.ie/censusasp/saps/boundaries/Census2011_Dublin_Parishes_generalised.zip"
   ]
  },
  {
   "cell_type": "code",
   "execution_count": 5,
   "metadata": {
    "collapsed": true,
    "deletable": true,
    "editable": true
   },
   "outputs": [],
   "source": [
    "%matplotlib inline"
   ]
  },
  {
   "cell_type": "code",
   "execution_count": 1,
   "metadata": {
    "collapsed": false,
    "deletable": true,
    "editable": true
   },
   "outputs": [],
   "source": [
    "import geopandas"
   ]
  },
  {
   "cell_type": "markdown",
   "metadata": {
    "deletable": true,
    "editable": true
   },
   "source": [
    "Previously we used this ogr2ogr command to convert the Shapefile into a GeoJSON file:\n",
    "```\n",
    "ogr2ogr -f GeoJSON -t_srs crs:84 ./data/dublin_parishes.geojson ./original_data/Census2011_Dublin_Parishes_generalised.shp\n",
    "```"
   ]
  },
  {
   "cell_type": "markdown",
   "metadata": {
    "deletable": true,
    "editable": true
   },
   "source": [
    "We do not distribute the original Shapefile in this repo but it is available at the [CSO website](http://census.cso.ie/censusasp/saps/boundaries/Census2011_Dublin_Parishes_generalised.zip)."
   ]
  },
  {
   "cell_type": "markdown",
   "metadata": {
    "deletable": true,
    "editable": true
   },
   "source": [
    "Let's read the GeoJSON file"
   ]
  },
  {
   "cell_type": "code",
   "execution_count": 7,
   "metadata": {
    "collapsed": true,
    "deletable": true,
    "editable": true
   },
   "outputs": [],
   "source": [
    "parishes = geopandas.read_file(\"./data/dublin_parishes.geojson\")"
   ]
  },
  {
   "cell_type": "markdown",
   "metadata": {
    "deletable": true,
    "editable": true
   },
   "source": [
    "We can see all the columns that are available:"
   ]
  },
  {
   "cell_type": "code",
   "execution_count": 10,
   "metadata": {
    "collapsed": false,
    "deletable": true,
    "editable": true
   },
   "outputs": [
    {
     "data": {
      "text/html": [
       "<div>\n",
       "<table border=\"1\" class=\"dataframe\">\n",
       "  <thead>\n",
       "    <tr style=\"text-align: right;\">\n",
       "      <th></th>\n",
       "      <th>CREATEDATE</th>\n",
       "      <th>Deanery</th>\n",
       "      <th>Female2011</th>\n",
       "      <th>GEOG_ID</th>\n",
       "      <th>HS2011</th>\n",
       "      <th>Male2011</th>\n",
       "      <th>PARISH_ID</th>\n",
       "      <th>PCVac2011</th>\n",
       "      <th>PPOcc2011</th>\n",
       "      <th>Par_Name</th>\n",
       "      <th>Total2011</th>\n",
       "      <th>Unocc2011</th>\n",
       "      <th>Vacant2011</th>\n",
       "      <th>geometry</th>\n",
       "    </tr>\n",
       "  </thead>\n",
       "  <tbody>\n",
       "    <tr>\n",
       "      <th>0</th>\n",
       "      <td>30-10-2013</td>\n",
       "      <td>Bray</td>\n",
       "      <td>5139.0</td>\n",
       "      <td>H10018</td>\n",
       "      <td>4137.0</td>\n",
       "      <td>4899.0</td>\n",
       "      <td>10018</td>\n",
       "      <td>9.5</td>\n",
       "      <td>3607.0</td>\n",
       "      <td>Cabinteely</td>\n",
       "      <td>10038.0</td>\n",
       "      <td>530.0</td>\n",
       "      <td>393.0</td>\n",
       "      <td>POLYGON ((-6.148265634861978 53.26563679631947...</td>\n",
       "    </tr>\n",
       "    <tr>\n",
       "      <th>1</th>\n",
       "      <td>30-10-2013</td>\n",
       "      <td>Bray</td>\n",
       "      <td>4700.0</td>\n",
       "      <td>H10014</td>\n",
       "      <td>3475.0</td>\n",
       "      <td>4254.0</td>\n",
       "      <td>10014</td>\n",
       "      <td>4.8</td>\n",
       "      <td>3199.0</td>\n",
       "      <td>Ballybrack - Killiney</td>\n",
       "      <td>8954.0</td>\n",
       "      <td>276.0</td>\n",
       "      <td>167.0</td>\n",
       "      <td>POLYGON ((-6.111792439933751 53.27023935020244...</td>\n",
       "    </tr>\n",
       "    <tr>\n",
       "      <th>2</th>\n",
       "      <td>30-10-2013</td>\n",
       "      <td>Bray</td>\n",
       "      <td>1894.0</td>\n",
       "      <td>H10025</td>\n",
       "      <td>1234.0</td>\n",
       "      <td>1771.0</td>\n",
       "      <td>10025</td>\n",
       "      <td>1.9</td>\n",
       "      <td>1196.0</td>\n",
       "      <td>Loughlinstown</td>\n",
       "      <td>3665.0</td>\n",
       "      <td>38.0</td>\n",
       "      <td>23.0</td>\n",
       "      <td>POLYGON ((-6.124858107130685 53.25128086802361...</td>\n",
       "    </tr>\n",
       "    <tr>\n",
       "      <th>3</th>\n",
       "      <td>30-10-2013</td>\n",
       "      <td>Bray</td>\n",
       "      <td>11495.0</td>\n",
       "      <td>H10026</td>\n",
       "      <td>9110.0</td>\n",
       "      <td>10793.0</td>\n",
       "      <td>10026</td>\n",
       "      <td>10.3</td>\n",
       "      <td>7907.0</td>\n",
       "      <td>Sandyford</td>\n",
       "      <td>22288.0</td>\n",
       "      <td>1203.0</td>\n",
       "      <td>938.0</td>\n",
       "      <td>POLYGON ((-6.200467319290477 53.27864839840855...</td>\n",
       "    </tr>\n",
       "    <tr>\n",
       "      <th>4</th>\n",
       "      <td>30-10-2013</td>\n",
       "      <td>Bray</td>\n",
       "      <td>5235.0</td>\n",
       "      <td>H10027</td>\n",
       "      <td>3859.0</td>\n",
       "      <td>4867.0</td>\n",
       "      <td>10027</td>\n",
       "      <td>5.2</td>\n",
       "      <td>3560.0</td>\n",
       "      <td>Shankill</td>\n",
       "      <td>10102.0</td>\n",
       "      <td>299.0</td>\n",
       "      <td>199.0</td>\n",
       "      <td>POLYGON ((-6.112127995483513 53.24294187633203...</td>\n",
       "    </tr>\n",
       "  </tbody>\n",
       "</table>\n",
       "</div>"
      ],
      "text/plain": [
       "   CREATEDATE Deanery  Female2011 GEOG_ID  HS2011  Male2011 PARISH_ID  \\\n",
       "0  30-10-2013    Bray      5139.0  H10018  4137.0    4899.0     10018   \n",
       "1  30-10-2013    Bray      4700.0  H10014  3475.0    4254.0     10014   \n",
       "2  30-10-2013    Bray      1894.0  H10025  1234.0    1771.0     10025   \n",
       "3  30-10-2013    Bray     11495.0  H10026  9110.0   10793.0     10026   \n",
       "4  30-10-2013    Bray      5235.0  H10027  3859.0    4867.0     10027   \n",
       "\n",
       "   PCVac2011  PPOcc2011               Par_Name  Total2011  Unocc2011  \\\n",
       "0        9.5     3607.0             Cabinteely    10038.0      530.0   \n",
       "1        4.8     3199.0  Ballybrack - Killiney     8954.0      276.0   \n",
       "2        1.9     1196.0          Loughlinstown     3665.0       38.0   \n",
       "3       10.3     7907.0              Sandyford    22288.0     1203.0   \n",
       "4        5.2     3560.0               Shankill    10102.0      299.0   \n",
       "\n",
       "   Vacant2011                                           geometry  \n",
       "0       393.0  POLYGON ((-6.148265634861978 53.26563679631947...  \n",
       "1       167.0  POLYGON ((-6.111792439933751 53.27023935020244...  \n",
       "2        23.0  POLYGON ((-6.124858107130685 53.25128086802361...  \n",
       "3       938.0  POLYGON ((-6.200467319290477 53.27864839840855...  \n",
       "4       199.0  POLYGON ((-6.112127995483513 53.24294187633203...  "
      ]
     },
     "execution_count": 10,
     "metadata": {},
     "output_type": "execute_result"
    }
   ],
   "source": [
    "parishes.head()"
   ]
  },
  {
   "cell_type": "markdown",
   "metadata": {
    "deletable": true,
    "editable": true
   },
   "source": [
    "And plot the shapes without an underlying map:"
   ]
  },
  {
   "cell_type": "code",
   "execution_count": 9,
   "metadata": {
    "collapsed": false,
    "deletable": true,
    "editable": true
   },
   "outputs": [
    {
     "data": {
      "text/plain": [
       "<matplotlib.axes._subplots.AxesSubplot at 0x11a0f1e10>"
      ]
     },
     "execution_count": 9,
     "metadata": {},
     "output_type": "execute_result"
    },
    {
     "data": {
      "image/png": "[encoded data removed]",
      "text/plain": [
       "<matplotlib.figure.Figure at 0x11a0f9390>"
      ]
     },
     "metadata": {},
     "output_type": "display_data"
    }
   ],
   "source": [
    "parishes.plot()"
   ]
  },
  {
   "cell_type": "markdown",
   "metadata": {
    "collapsed": true,
    "deletable": true,
    "editable": true
   },
   "source": [
    "If we render the GeoJSON file on Github all the extra columns will also be displayed."
   ]
  },
  {
   "cell_type": "code",
   "execution_count": 37,
   "metadata": {
    "collapsed": false
   },
   "outputs": [
    {
     "data": {
      "text/html": [
       "\n",
       "        <iframe\n",
       "            width=\"1000\"\n",
       "            height=\"600\"\n",
       "            src=\"https://render.githubusercontent.com/view/geojson?url=https://raw.githubusercontent.com/ihuston/dublin_parishes/master/data/dublin_parishes.geojson\"\n",
       "            frameborder=\"0\"\n",
       "            allowfullscreen\n",
       "        ></iframe>\n",
       "        "
      ],
      "text/plain": [
       "<IPython.lib.display.IFrame at 0x11a845550>"
      ]
     },
     "execution_count": 37,
     "metadata": {},
     "output_type": "execute_result"
    }
   ],
   "source": [
    "IFrame(src='https://render.githubusercontent.com/view/geojson?url=https://raw.githubusercontent.com/ihuston/dublin_parishes/master/data/dublin_parishes.geojson', width=1000, height=600)"
   ]
  },
  {
   "cell_type": "markdown",
   "metadata": {},
   "source": [
    "Instead we can trim down to the columns we really want, e.g. the parish name and geometry:"
   ]
  },
  {
   "cell_type": "code",
   "execution_count": 11,
   "metadata": {
    "collapsed": true,
    "deletable": true,
    "editable": true
   },
   "outputs": [],
   "source": [
    "cleaned_parishes = parishes[[\"Par_Name\", \"geometry\"]]\n",
    "cleaned_parishes.columns = [\"Parish Name\", \"geometry\"]"
   ]
  },
  {
   "cell_type": "code",
   "execution_count": 12,
   "metadata": {
    "collapsed": false,
    "deletable": true,
    "editable": true
   },
   "outputs": [
    {
     "data": {
      "text/html": [
       "<div>\n",
       "<table border=\"1\" class=\"dataframe\">\n",
       "  <thead>\n",
       "    <tr style=\"text-align: right;\">\n",
       "      <th></th>\n",
       "      <th>Parish Name</th>\n",
       "      <th>geometry</th>\n",
       "    </tr>\n",
       "  </thead>\n",
       "  <tbody>\n",
       "    <tr>\n",
       "      <th>0</th>\n",
       "      <td>Cabinteely</td>\n",
       "      <td>POLYGON ((-6.148265634861978 53.26563679631947...</td>\n",
       "    </tr>\n",
       "    <tr>\n",
       "      <th>1</th>\n",
       "      <td>Ballybrack - Killiney</td>\n",
       "      <td>POLYGON ((-6.111792439933751 53.27023935020244...</td>\n",
       "    </tr>\n",
       "    <tr>\n",
       "      <th>2</th>\n",
       "      <td>Loughlinstown</td>\n",
       "      <td>POLYGON ((-6.124858107130685 53.25128086802361...</td>\n",
       "    </tr>\n",
       "    <tr>\n",
       "      <th>3</th>\n",
       "      <td>Sandyford</td>\n",
       "      <td>POLYGON ((-6.200467319290477 53.27864839840855...</td>\n",
       "    </tr>\n",
       "    <tr>\n",
       "      <th>4</th>\n",
       "      <td>Shankill</td>\n",
       "      <td>POLYGON ((-6.112127995483513 53.24294187633203...</td>\n",
       "    </tr>\n",
       "  </tbody>\n",
       "</table>\n",
       "</div>"
      ],
      "text/plain": [
       "             Parish Name                                           geometry\n",
       "0             Cabinteely  POLYGON ((-6.148265634861978 53.26563679631947...\n",
       "1  Ballybrack - Killiney  POLYGON ((-6.111792439933751 53.27023935020244...\n",
       "2          Loughlinstown  POLYGON ((-6.124858107130685 53.25128086802361...\n",
       "3              Sandyford  POLYGON ((-6.200467319290477 53.27864839840855...\n",
       "4               Shankill  POLYGON ((-6.112127995483513 53.24294187633203..."
      ]
     },
     "execution_count": 12,
     "metadata": {},
     "output_type": "execute_result"
    }
   ],
   "source": [
    "cleaned_parishes.head()"
   ]
  },
  {
   "cell_type": "code",
   "execution_count": 19,
   "metadata": {
    "collapsed": true,
    "deletable": true,
    "editable": true
   },
   "outputs": [],
   "source": [
    "new_geojson = cleaned_parishes.to_json()"
   ]
  },
  {
   "cell_type": "code",
   "execution_count": 22,
   "metadata": {
    "collapsed": false,
    "deletable": true,
    "editable": true
   },
   "outputs": [],
   "source": [
    "with open(\"./data/cleaned_dublin_parishes.geojson\", \"w\") as f:\n",
    "    f.write(new_geojson)"
   ]
  },
  {
   "cell_type": "markdown",
   "metadata": {
    "deletable": true,
    "editable": true
   },
   "source": [
    "We can now push the new GeoJSON file to Github and view it:"
   ]
  },
  {
   "cell_type": "code",
   "execution_count": 31,
   "metadata": {
    "collapsed": true,
    "deletable": true,
    "editable": true
   },
   "outputs": [],
   "source": [
    "from IPython.display import HTML, Javascript, IFrame"
   ]
  },
  {
   "cell_type": "code",
   "execution_count": 36,
   "metadata": {
    "collapsed": false,
    "deletable": true,
    "editable": true,
    "scrolled": false
   },
   "outputs": [
    {
     "data": {
      "text/html": [
       "\n",
       "        <iframe\n",
       "            width=\"1000\"\n",
       "            height=\"600\"\n",
       "            src=\"https://render.githubusercontent.com/view/geojson?url=https://raw.githubusercontent.com/ihuston/dublin_parishes/master/data/cleaned_dublin_parishes.geojson\"\n",
       "            frameborder=\"0\"\n",
       "            allowfullscreen\n",
       "        ></iframe>\n",
       "        "
      ],
      "text/plain": [
       "<IPython.lib.display.IFrame at 0x11a8b7d30>"
      ]
     },
     "execution_count": 36,
     "metadata": {},
     "output_type": "execute_result"
    }
   ],
   "source": [
    "IFrame(src='https://render.githubusercontent.com/view/geojson?url=https://raw.githubusercontent.com/ihuston/dublin_parishes/master/data/cleaned_dublin_parishes.geojson', width=1000, height=600)"
   ]
  },
  {
   "cell_type": "code",
   "execution_count": null,
   "metadata": {
    "collapsed": true,
    "deletable": true,
    "editable": true
   },
   "outputs": [],
   "source": []
  }
 ],
 "metadata": {
  "kernelspec": {
   "display_name": "Python 3",
   "language": "python",
   "name": "python3"
  },
  "language_info": {
   "codemirror_mode": {
    "name": "ipython",
    "version": 3
   },
   "file_extension": ".py",
   "mimetype": "text/x-python",
   "name": "python",
   "nbconvert_exporter": "python",
   "pygments_lexer": "ipython3",
   "version": "3.6.1"
  }
 },
 "nbformat": 4,
 "nbformat_minor": 2
}
